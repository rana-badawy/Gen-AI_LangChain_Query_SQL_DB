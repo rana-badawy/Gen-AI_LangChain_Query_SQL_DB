{
  "nbformat": 4,
  "nbformat_minor": 0,
  "metadata": {
    "colab": {
      "provenance": []
    },
    "kernelspec": {
      "name": "python3",
      "display_name": "Python 3"
    },
    "language_info": {
      "name": "python"
    }
  },
  "cells": [
    {
      "cell_type": "code",
      "source": [
        "# Install and use MySQL server on Google Colab\n",
        "!pip install mysql-connector-python\n",
        "!apt-get -y install mysql-server\n",
        "!service mysql start\n",
        "!mysql -e \"ALTER USER 'root'@'localhost' IDENTIFIED WITH 'mysql_native_password' BY 'admin';FLUSH PRIVILEGES;\"\n",
        "\n",
        "import mysql.connector\n",
        "\n",
        "# Create a connection to the MySQL server\n",
        "conn = mysql.connector.connect(user='root', password='admin', host='localhost')\n",
        "\n",
        "# Create a cursor to interact with the MySQL server\n",
        "cursor = conn.cursor()\n",
        "\n",
        "# Create a new database named 'products'\n",
        "cursor.execute(\"CREATE DATABASE IF NOT EXISTS products\")\n",
        "\n",
        "# Switch to the 'products' database\n",
        "cursor.execute(\"USE products\")\n",
        "\n",
        "# Create the tables\n",
        "cursor.execute('''\n",
        "CREATE TABLE products (\n",
        "    product_id INT AUTO_INCREMENT PRIMARY KEY,\n",
        "    product_type ENUM('T-shirt', 'Shirt', 'Blouse', 'Pants', 'Shorts', 'Skirt') NOT NULL,\n",
        "    brand ENUM('Levi', 'Nike', 'Adidas') NOT NULL,\n",
        "    color ENUM('Red', 'Blue', 'Black', 'White') NOT NULL,\n",
        "    size ENUM('XS', 'S', 'M', 'L', 'XL') NOT NULL,\n",
        "    price INT CHECK (price BETWEEN 10 AND 50),\n",
        "    stock_quantity INT NOT NULL,\n",
        "    UNIQUE KEY brand_color_size (product_type, brand, color, size)\n",
        ");\n",
        "CREATE TABLE discounts (\n",
        "    discount_id INT AUTO_INCREMENT PRIMARY KEY,\n",
        "    product_id INT NOT NULL,\n",
        "    pct_discount DECIMAL(5,2) CHECK (pct_discount BETWEEN 0 AND 100),\n",
        "    FOREIGN KEY (product_id) REFERENCES products(product_id)\n",
        ");\n",
        "''')\n",
        "\n",
        "# Close the cursor and connection\n",
        "cursor.close()\n",
        "conn.close()\n",
        "\n",
        "# Connect to the MySQL server and the 'products' database\n",
        "conn = mysql.connector.connect(user='root', password='admin', host='localhost', database='products')\n",
        "cursor = conn.cursor()\n",
        "\n",
        "data = [\n",
        "    (1, 'T-shirt', 'Nike', 'Black', 'XS', 18, 66),\n",
        "    (2, 'Pants', 'Nike', 'Red', 'S', 23, 58),\n",
        "    (3, 'Shorts', 'Adidas', 'White', 'M', 21, 86),\n",
        "    (4, 'Blouse', 'Nike', 'White', 'XS', 20, 80),\n",
        "    (5, 'T-shirt', 'Levi', 'Red', 'XL', 45, 45),\n",
        "    (6, 'Blouse', 'Levi', 'Blue', 'L', 14, 61),\n",
        "    (7, 'Shorts', 'Nike', 'White', 'XL', 21, 85),\n",
        "    (8, 'T-shirt', 'Levi', 'Black', 'L', 13, 16),\n",
        "    (9, 'Shirt', 'Levi', 'Black', 'XL', 41, 93),\n",
        "    (10, 'Shorts', 'Levi', 'Black', 'L', 35, 26),\n",
        "    (11, 'Pants', 'Levi', 'Black', 'XL', 32, 95),\n",
        "    (12, 'Shirt', 'Levi', 'Blue', 'L', 38, 37),\n",
        "    (13, 'Blouse', 'Nike', 'Blue', 'L', 14, 70),\n",
        "    (14, 'T-shirt', 'Levi', 'Black', 'XS', 23, 39),\n",
        "    (15, 'Shirt', 'Nike', 'Blue', 'S', 16, 93),\n",
        "    (16, 'Skirt', 'Levi', 'Blue', 'XS', 35, 66),\n",
        "    (17, 'T-shirt', 'Levi', 'White', 'M', 46, 73),\n",
        "    (18, 'Shirt', 'Adidas', 'White', 'XS', 15, 43),\n",
        "    (19, 'Skirt', 'Nike', 'Black', 'S', 44, 19),\n",
        "    (20, 'Shorts', 'Levi', 'Black', 'XL', 42, 28),\n",
        "    (21, 'Blouse', 'Nike', 'Blue', 'S', 45, 29),\n",
        "    (22, 'Pants', 'Nike', 'White', 'S', 35, 48),\n",
        "    (23, 'T-shirt', 'Levi', 'Blue', 'XL', 14, 10),\n",
        "    (24, 'Blouse', 'Adidas', 'Blue', 'XL', 46, 64),\n",
        "    (25, 'Shorts', 'Levi', 'Red', 'S', 12, 46),\n",
        "    (26, 'Skirt', 'Adidas', 'Blue', 'M', 50, 34),\n",
        "    (27, 'Skirt', 'Nike', 'Black', 'L', 38, 25),\n",
        "    (28, 'Shirt', 'Adidas', 'Red', 'S', 29, 69),\n",
        "    (29, 'Blouse', 'Adidas', 'Blue', 'S', 48, 60),\n",
        "    (30, 'T-shirt', 'Adidas', 'White', 'XL', 31, 30),\n",
        "    (31, 'Skirt', 'Nike', 'Red', 'XS', 19, 68),\n",
        "    (32, 'Pants', 'Nike', 'Black', 'L', 15, 54),\n",
        "    (33, 'Shorts', 'Levi', 'Blue', 'L', 20, 38),\n",
        "    (35, 'Pants', 'Levi', 'White', 'XS', 37, 97),\n",
        "    (36, 'T-shirt', 'Adidas', 'Red', 'XS', 45, 36),\n",
        "    (37, 'Pants', 'Adidas', 'Red', 'XL', 33, 92),\n",
        "    (38, 'Shirt', 'Adidas', 'Black', 'S', 12, 34),\n",
        "    (39, 'Skirt', 'Levi', 'White', 'XS', 27, 13),\n",
        "    (40, 'Shirt', 'Adidas', 'White', 'XL', 30, 63),\n",
        "    (42, 'Pants', 'Adidas', 'Blue', 'S', 32, 69),\n",
        "    (43, 'Shirt', 'Nike', 'Red', 'S', 50, 11),\n",
        "    (44, 'Blouse', 'Levi', 'White', 'M', 23, 38),\n",
        "    (45, 'Skirt', 'Nike', 'White', 'S', 45, 68),\n",
        "    (46, 'Skirt', 'Nike', 'White', 'M', 37, 13),\n",
        "    (48, 'Pants', 'Levi', 'White', 'S', 41, 84),\n",
        "    (49, 'Blouse', 'Adidas', 'Red', 'XL', 20, 63),\n",
        "    (51, 'T-shirt', 'Levi', 'White', 'XL', 48, 19),\n",
        "    (52, 'Shirt', 'Adidas', 'Blue', 'L', 23, 77),\n",
        "    (53, 'Shirt', 'Adidas', 'Red', 'L', 33, 58),\n",
        "    (55, 'Shorts', 'Adidas', 'Blue', 'L', 39, 26),\n",
        "    (58, 'Shorts', 'Adidas', 'Red', 'XS', 33, 52),\n",
        "    (59, 'Pants', 'Nike', 'Blue', 'XS', 35, 63),\n",
        "    (60, 'Blouse', 'Levi', 'Red', 'S', 13, 60),\n",
        "    (61, 'Skirt', 'Nike', 'Blue', 'L', 14, 72),\n",
        "    (62, 'Pants', 'Levi', 'Blue', 'XL', 10, 14),\n",
        "    (65, 'T-shirt', 'Adidas', 'Black', 'XS', 22, 33),\n",
        "    (66, 'T-shirt', 'Nike', 'Blue', 'M', 44, 45),\n",
        "    (67, 'T-shirt', 'Nike', 'Black', 'L', 44, 46),\n",
        "    (68, 'Shirt', 'Nike', 'Blue', 'XL', 41, 42),\n",
        "    (69, 'Shirt', 'Nike', 'Black', 'S', 28, 62),\n",
        "    (70, 'T-shirt', 'Nike', 'Black', 'XL', 49, 89),\n",
        "    (71, 'Shorts', 'Nike', 'Black', 'XL', 31, 86),\n",
        "    (72, 'Skirt', 'Adidas', 'Blue', 'L', 11, 88),\n",
        "    (73, 'Pants', 'Levi', 'Red', 'M', 41, 16),\n",
        "    (74, 'T-shirt', 'Levi', 'Red', 'L', 20, 10),\n",
        "    (75, 'T-shirt', 'Levi', 'White', 'S', 33, 12),\n",
        "    (77, 'Pants', 'Nike', 'Black', 'XL', 41, 28),\n",
        "    (78, 'T-shirt', 'Adidas', 'Blue', 'L', 44, 45),\n",
        "    (79, 'Skirt', 'Nike', 'Red', 'M', 41, 38),\n",
        "    (81, 'Blouse', 'Levi', 'Black', 'M', 22, 38),\n",
        "    (84, 'Blouse', 'Levi', 'White', 'XL', 40, 22),\n",
        "    (85, 'Skirt', 'Nike', 'Blue', 'M', 35, 71),\n",
        "    (88, 'Pants', 'Nike', 'White', 'XS', 24, 66),\n",
        "    (89, 'Shirt', 'Levi', 'Red', 'M', 26, 59),\n",
        "    (90, 'Skirt', 'Nike', 'White', 'L', 38, 53),\n",
        "    (91, 'Shirt', 'Nike', 'Black', 'L', 22, 23),\n",
        "    (92, 'Shorts', 'Adidas', 'White', 'XL', 26, 47),\n",
        "    (93, 'T-shirt', 'Adidas', 'Black', 'L', 48, 60),\n",
        "    (96, 'T-shirt', 'Nike', 'Blue', 'S', 49, 10),\n",
        "    (97, 'Pants', 'Levi', 'Blue', 'XS', 24, 57),\n",
        "    (98, 'Shirt', 'Nike', 'Black', 'M', 42, 37),\n",
        "    (99, 'Pants', 'Levi', 'Black', 'XS', 18, 53),\n",
        "    (100, 'Blouse', 'Adidas', 'Black', 'XS', 36, 90),\n",
        "]\n",
        "\n",
        "# Insert data using the cursor\n",
        "cursor.executemany('''\n",
        "INSERT INTO products (product_id, product_type, brand, color, size, price, stock_quantity)\n",
        "            VALUES (%s, %s, %s, %s, %s, %s, %s);\n",
        "''', data)\n",
        "\n",
        "# Commit the changes\n",
        "conn.commit()\n",
        "\n",
        "# Close the cursor and connection\n",
        "cursor.close()\n",
        "conn.close()\n",
        "\n",
        "# Connect to the MySQL server and the 'products' database\n",
        "conn = mysql.connector.connect(user='root', password='admin', host='localhost', database='products')\n",
        "cursor = conn.cursor()\n",
        "\n",
        "data = [\n",
        "    (1, 1, 10),\n",
        "    (2, 2, 15),\n",
        "    (3, 3, 20),\n",
        "    (4, 4, 5),\n",
        "    (5, 5, 25),\n",
        "    (6, 6, 10),\n",
        "    (7, 7, 30),\n",
        "    (8, 8, 35),\n",
        "    (9, 9, 40),\n",
        "    (10, 10, 45)\n",
        "]\n",
        "\n",
        "# Insert data using the cursor\n",
        "cursor.executemany('''\n",
        "INSERT INTO discounts (discount_id, product_id, pct_discount)\n",
        "            VALUES (%s, %s, %s);\n",
        "''', data)\n",
        "\n",
        "# Commit the changes\n",
        "conn.commit()\n",
        "\n",
        "# Close the cursor and connection\n",
        "cursor.close()\n",
        "conn.close()"
      ],
      "metadata": {
        "id": "sni4RyLUOBAb"
      },
      "execution_count": null,
      "outputs": []
    },
    {
      "cell_type": "code",
      "source": [
        "# Install needed libraries on Google Colab\n",
        "pip install langchain_community langchain pymysql chromadb"
      ],
      "metadata": {
        "id": "YCcRQRqnOARa"
      },
      "execution_count": null,
      "outputs": []
    },
    {
      "cell_type": "code",
      "source": [
        "# Import necessary libraries\n",
        "import os\n",
        "from google.colab import userdata\n",
        "from langchain_community.utilities.sql_database import SQLDatabase\n",
        "from langchain.chains import create_sql_query_chain\n",
        "from langchain_community.llms import GooglePalm\n",
        "from langchain_community.tools.sql_database.tool import QuerySQLDataBaseTool\n",
        "from operator import itemgetter\n",
        "from langchain_core.output_parsers import StrOutputParser\n",
        "from langchain_core.prompts import PromptTemplate, ChatPromptTemplate, FewShotChatMessagePromptTemplate, MessagesPlaceholder\n",
        "from langchain_core.runnables import RunnablePassthrough\n",
        "from langchain_community.vectorstores import Chroma\n",
        "from langchain_core.example_selectors import SemanticSimilarityExampleSelector\n",
        "from langchain_community.embeddings import GooglePalmEmbeddings"
      ],
      "metadata": {
        "id": "A0Y5_EjXGRwa"
      },
      "execution_count": null,
      "outputs": []
    },
    {
      "cell_type": "code",
      "source": [
        "# Retrieve API keys and credentials from Google Colab's user data\n",
        "google_api_key = userdata.get('GOOGLE_API_KEY')\n",
        "langchain_api_key = userdata.get('LANGCHAIN_API_KEY')\n",
        "\n",
        "# Set the Google API key and LangChain Key (for tracing) as environment variables\n",
        "os.environ['GOOGLE_API_KEY'] = google_api_key\n",
        "os.environ['LANGCHAIN_TRACING_V2'] = 'true'\n",
        "os.environ['LANGCHAIN_API_KEY'] = langchain_api_key\n",
        "\n",
        "# Retrieve database credentials from Google Colab's user data\n",
        "db_user = userdata.get('DB_USER')\n",
        "db_password = userdata.get('DB_PASSWORD')\n",
        "db_host = \"localhost\"\n",
        "db_name = \"products\""
      ],
      "metadata": {
        "id": "ANGBWZT7GhUJ"
      },
      "execution_count": null,
      "outputs": []
    },
    {
      "cell_type": "code",
      "source": [
        "# Define few-shot examples for training the model\n",
        "few_shots = [\n",
        "    {\n",
        "        \"input\": \"What is the price of all white small skirts we have in inventory\",\n",
        "        \"query\": \"select sum(price*stock_quantity) from products where product_type = 'Skirt' and color = 'white' and size = 'S'\"\n",
        "    },\n",
        "    {\n",
        "        \"input\": \"How many Adidas black t-shirts do we have left\",\n",
        "        \"query\": \"select sum(stock_quantity) from products where product_type = 'T-shirt' and brand = 'Adidas' and color = 'Black'\"\n",
        "    },\n",
        "    {\n",
        "        \"input\": \"If we have to sell all the Levi’s T-shirts today with discounts applied. How much revenue our store will generate?\",\n",
        "        \"query\" : \"\"\"SELECT sum(a.total_amount * ((100-COALESCE(discounts.pct_discount, 0))/100)) as total_revenue from\n",
        "        (select sum(price*stock_quantity) as total_amount, product_id from products where brand = 'Levi' and product_type = 'T-shirt'\n",
        "        group by product_id) a left join discounts on a.product_id = discounts.product_id\"\"\"\n",
        "    },\n",
        "    {\n",
        "        \"input\" : \"If we have to sell all the Levi’s T-shirts today. How much revenue our store will generate without discount?\" ,\n",
        "        \"query\": \"SELECT SUM(price*stock_quantity) FROM products WHERE brand = 'Levi' and product_type = 'T-shirt'\"\n",
        "    },\n",
        "    {\n",
        "        \"input\": \"how much sales amount will be generated if we sell all large size t-shirts today in nike brand after discounts?\",\n",
        "        \"query\" : \"\"\"SELECT sum(a.total_amount * ((100-COALESCE(discounts.pct_discount, 0))/100)) as total_revenue from\n",
        "        (select sum(price*stock_quantity) as total_amount, product_id from products where brand = 'Nike' and product_type = 'T-shirt' and size = 'L'\n",
        "        group by product_id) a left join discounts on a.product_id = discounts.product_id\"\"\"\n",
        "    }\n",
        "    ]"
      ],
      "metadata": {
        "id": "plnmOqMtbtpa"
      },
      "execution_count": null,
      "outputs": []
    },
    {
      "cell_type": "code",
      "source": [
        "# Initialize a Chroma vector store and delete existing collections\n",
        "vectorstore = Chroma()\n",
        "vectorstore.delete_collection()\n",
        "\n",
        "# Create a semantic similarity example selector\n",
        "example_selector = SemanticSimilarityExampleSelector.from_examples(\n",
        "    few_shots,\n",
        "    GooglePalmEmbeddings(),\n",
        "    vectorstore,\n",
        "    k=2,\n",
        "    input_keys=[\"input\"]\n",
        ")"
      ],
      "metadata": {
        "id": "zLjTMebZeKGV"
      },
      "execution_count": null,
      "outputs": []
    },
    {
      "cell_type": "code",
      "source": [
        "# Define a chat prompt template for examples\n",
        "example_prompt = ChatPromptTemplate.from_messages(\n",
        "    [\n",
        "        \"\\nQuestion: {input}\\nSQLQuery: {query}\"\n",
        "    ]\n",
        ")\n",
        "\n",
        "# Define a few-shot chat message prompt template\n",
        "few_shots_prompt = FewShotChatMessagePromptTemplate(\n",
        "    example_prompt=example_prompt,\n",
        "    example_selector=example_selector,\n",
        "    input_variables=[\"input\", \"top_k\"]\n",
        ")"
      ],
      "metadata": {
        "id": "WW6K1EkseL_g"
      },
      "execution_count": null,
      "outputs": []
    },
    {
      "cell_type": "code",
      "source": [
        "# Connect to the MySQL database using the SQLDatabase utility\n",
        "db = SQLDatabase.from_uri(f\"mysql+pymysql://{db_user}:{db_password}@{db_host}/{db_name}\")\n",
        "\n",
        "# Initialize the GooglePalm language model\n",
        "llm = GooglePalm(google_api_key=google_api_key, temperature=0.1)\n",
        "\n",
        "# Define the final prompt template for generating SQL queries\n",
        "final_prompt = ChatPromptTemplate.from_messages(\n",
        "    [\n",
        "        \"You are a MySQL expert. Given an input question, create a syntactically correct MySQL query to run. Unless otherwise specificed.\\n\\nHere is the relevant table info: {table_info}\\n\\nBelow are a number of examples of questions and their corresponding SQL queries.\",\n",
        "        few_shots_prompt,\n",
        "        \"{input}\"\n",
        "    ]\n",
        ")\n",
        "# Define a prompt template for rephrasing the answer into a human form\n",
        "answer_prompt = PromptTemplate.from_template(\n",
        "    \"\"\"\n",
        "    Given the following user question, corresponding SQL query, and SQL result, return the Answer putting it into a sentence using the user question.\n",
        "\n",
        "    Question: {question}\n",
        "    SQL Query: {query}\n",
        "    SQL Result: {result}\n",
        "    Answer:\n",
        "    \"\"\"\n",
        ")\n",
        "# Define a rephrase answer chain\n",
        "rephrase_answer = answer_prompt | llm | StrOutputParser()\n",
        "\n",
        "# Create a chain to generate SQL queries\n",
        "generate_query = create_sql_query_chain(llm, db, final_prompt)\n",
        "execute_query = QuerySQLDataBaseTool(db=db)\n",
        "\n",
        "# Define the final chain to process the query and return the answer\n",
        "chain = (\n",
        "    RunnablePassthrough.assign(query=generate_query).assign(\n",
        "        result=itemgetter(\"query\") | execute_query\n",
        "    ) | rephrase_answer\n",
        ")"
      ],
      "metadata": {
        "id": "xfTudcmofcq3"
      },
      "execution_count": null,
      "outputs": []
    },
    {
      "cell_type": "code",
      "source": [
        "chain.invoke({\"question\": \"How many Adidas Black t-shirts do we have left\"})"
      ],
      "metadata": {
        "colab": {
          "base_uri": "https://localhost:8080/",
          "height": 36
        },
        "id": "OcKmrFEahFcg",
        "outputId": "dda19231-543c-4e4c-9a90-b3630cf34c18"
      },
      "execution_count": null,
      "outputs": [
        {
          "output_type": "execute_result",
          "data": {
            "text/plain": [
              "'We have 93 Adidas Black t-shirts left.'"
            ],
            "application/vnd.google.colaboratory.intrinsic+json": {
              "type": "string"
            }
          },
          "metadata": {},
          "execution_count": 42
        }
      ]
    },
    {
      "cell_type": "code",
      "source": [
        "chain.invoke({\"question\": \"How much is the total price of the inventory for all extra small size t-shirts?\"})"
      ],
      "metadata": {
        "colab": {
          "base_uri": "https://localhost:8080/",
          "height": 36
        },
        "id": "_uVQEJiGPni7",
        "outputId": "064e801e-cc05-41d1-9845-7a0447fda2b0"
      },
      "execution_count": null,
      "outputs": [
        {
          "output_type": "execute_result",
          "data": {
            "text/plain": [
              "'The total price of the inventory for all extra small size t-shirts is 4431.'"
            ],
            "application/vnd.google.colaboratory.intrinsic+json": {
              "type": "string"
            }
          },
          "metadata": {},
          "execution_count": 10
        }
      ]
    },
    {
      "cell_type": "code",
      "source": [
        "chain.invoke({\"question\": \"Do we have any discounts on shorts?\"})"
      ],
      "metadata": {
        "colab": {
          "base_uri": "https://localhost:8080/",
          "height": 36
        },
        "id": "18fbLSDP040G",
        "outputId": "a04b00a1-ac0e-4d3b-bd7c-a41a36f1f0e2"
      },
      "execution_count": null,
      "outputs": [
        {
          "output_type": "execute_result",
          "data": {
            "text/plain": [
              "'Yes, we have 3 discounts on shorts.'"
            ],
            "application/vnd.google.colaboratory.intrinsic+json": {
              "type": "string"
            }
          },
          "metadata": {},
          "execution_count": 11
        }
      ]
    },
    {
      "cell_type": "code",
      "source": [
        "chain.invoke({\"question\": \"What are the discounts we have on shorts?\"})"
      ],
      "metadata": {
        "colab": {
          "base_uri": "https://localhost:8080/",
          "height": 36
        },
        "id": "3517fWGCHVdN",
        "outputId": "4bab8736-46e8-416a-bb42-26242c2315f2"
      },
      "execution_count": null,
      "outputs": [
        {
          "output_type": "execute_result",
          "data": {
            "text/plain": [
              "'The discounts we have on shorts are 20%, 30% and 45%.'"
            ],
            "application/vnd.google.colaboratory.intrinsic+json": {
              "type": "string"
            }
          },
          "metadata": {},
          "execution_count": 12
        }
      ]
    },
    {
      "cell_type": "code",
      "source": [
        "chain.invoke({\"question\": \"What are the discounts we have on shorts? What is the brand and size for each short on discount?\"})"
      ],
      "metadata": {
        "colab": {
          "base_uri": "https://localhost:8080/",
          "height": 36
        },
        "id": "TlUlvhtAHiVb",
        "outputId": "ce5e4914-b390-4abc-c4c3-35702f02051d"
      },
      "execution_count": null,
      "outputs": [
        {
          "output_type": "execute_result",
          "data": {
            "text/plain": [
              "'The discounts we have on shorts are 20% off Adidas M, 30% off Nike XL and 45% off Levi L.'"
            ],
            "application/vnd.google.colaboratory.intrinsic+json": {
              "type": "string"
            }
          },
          "metadata": {},
          "execution_count": 13
        }
      ]
    },
    {
      "cell_type": "code",
      "source": [
        "chain.invoke({\"question\": \"If we have to sell all the Adidas shorts today with discounts applied. How much revenue our store will generate?\"})"
      ],
      "metadata": {
        "colab": {
          "base_uri": "https://localhost:8080/",
          "height": 36
        },
        "id": "ZEGHcA6DHtpR",
        "outputId": "b8985b6c-2da3-4cdf-a44d-a7a0f70233c2"
      },
      "execution_count": null,
      "outputs": [
        {
          "output_type": "execute_result",
          "data": {
            "text/plain": [
              "'If we have to sell all the Adidas shorts today with discounts applied. Our store will generate 5396.80 revenue.'"
            ],
            "application/vnd.google.colaboratory.intrinsic+json": {
              "type": "string"
            }
          },
          "metadata": {},
          "execution_count": 14
        }
      ]
    },
    {
      "cell_type": "code",
      "source": [
        "chain.invoke({\"question\": \"If we have to sell all the Adidas shorts today without discounts applied. How much revenue our store will generate?\"})"
      ],
      "metadata": {
        "colab": {
          "base_uri": "https://localhost:8080/",
          "height": 36
        },
        "id": "CkZJh1EtJmbm",
        "outputId": "5309b94d-823f-42de-a463-e9e5fc954e54"
      },
      "execution_count": null,
      "outputs": [
        {
          "output_type": "execute_result",
          "data": {
            "text/plain": [
              "'If we have to sell all the Adidas shorts today without discounts applied. Our store will generate 5758 revenue.'"
            ],
            "application/vnd.google.colaboratory.intrinsic+json": {
              "type": "string"
            }
          },
          "metadata": {},
          "execution_count": 15
        }
      ]
    },
    {
      "cell_type": "code",
      "source": [
        "chain.invoke({\"question\": \"What would be the revenue difference if we sell all the Adidas shorts without discounts and with discounts applied?\"})"
      ],
      "metadata": {
        "colab": {
          "base_uri": "https://localhost:8080/",
          "height": 36
        },
        "id": "py0M0QAqJ0GY",
        "outputId": "8ca2af35-cec0-4087-e3b2-41f3311e111a"
      },
      "execution_count": null,
      "outputs": [
        {
          "output_type": "execute_result",
          "data": {
            "text/plain": [
              "'The revenue difference if we sell all the Adidas shorts without discounts and with discounts applied is 361.20.'"
            ],
            "application/vnd.google.colaboratory.intrinsic+json": {
              "type": "string"
            }
          },
          "metadata": {},
          "execution_count": 17
        }
      ]
    },
    {
      "cell_type": "code",
      "source": [],
      "metadata": {
        "id": "HSPDK0idKLnr"
      },
      "execution_count": null,
      "outputs": []
    }
  ]
}